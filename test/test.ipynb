{
 "cells": [
  {
   "cell_type": "code",
   "execution_count": 5,
   "metadata": {},
   "outputs": [
    {
     "name": "stdout",
     "output_type": "stream",
     "text": [
      "['강원도', '경기도', '경상남도', '경상북도', '광주광역시', '대구광역시', '대전광역시', '부산광역시', '서울특별시', '세종특별자치시', '울산광역시', '인천광역시', '전라남도', '전라북도', '제주특별자치도', '충청남도', '충청북도']\n"
     ]
    }
   ],
   "source": [
    "import streamlit as st\n",
    "import folium\n",
    "from folium import plugins\n",
    "from folium import LinearColormap\n",
    "from streamlit_folium import st_folium\n",
    "import json\n",
    "with open('korea.json', 'r', encoding='utf-8') as f:\n",
    "    data = json.load(f)\n",
    "\n",
    "type(data)\n",
    "#gdf = gpd.read_file(data)\n",
    "print([feature['properties'][\"CTP_KOR_NM\"] for feature in data['features']])\n",
    "\n"
   ]
  },
  {
   "cell_type": "code",
   "execution_count": 6,
   "metadata": {},
   "outputs": [],
   "source": [
    "po = 1000\n",
    "for feature in data['features']:\n",
    "    feature['properties']['car'] = po\n",
    "    po += 1000"
   ]
  },
  {
   "cell_type": "code",
   "execution_count": 7,
   "metadata": {},
   "outputs": [
    {
     "name": "stdout",
     "output_type": "stream",
     "text": [
      "[('강원도', 1000), ('경기도', 2000), ('경상남도', 3000), ('경상북도', 4000), ('광주광역시', 5000), ('대구광역시', 6000), ('대전광역시', 7000), ('부산광역시', 8000), ('서울특별시', 9000), ('세종특별자치시', 10000), ('울산광역시', 11000), ('인천광역시', 12000), ('전라남도', 13000), ('전라북도', 14000), ('제주특별자치도', 15000), ('충청남도', 16000), ('충청북도', 17000)]\n"
     ]
    }
   ],
   "source": [
    "print([(feature['properties'][\"CTP_KOR_NM\"], feature['properties'][\"car\"]) for feature in data['features']])"
   ]
  },
  {
   "cell_type": "code",
   "execution_count": null,
   "metadata": {},
   "outputs": [],
   "source": []
  }
 ],
 "metadata": {
  "kernelspec": {
   "display_name": ".venv",
   "language": "python",
   "name": "python3"
  },
  "language_info": {
   "codemirror_mode": {
    "name": "ipython",
    "version": 3
   },
   "file_extension": ".py",
   "mimetype": "text/x-python",
   "name": "python",
   "nbconvert_exporter": "python",
   "pygments_lexer": "ipython3",
   "version": "3.13.1"
  }
 },
 "nbformat": 4,
 "nbformat_minor": 2
}
